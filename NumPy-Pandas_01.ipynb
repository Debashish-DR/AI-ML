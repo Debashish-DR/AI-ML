{
 "cells": [
  {
   "cell_type": "code",
   "execution_count": 1,
   "id": "d08e8cfc-7c05-4641-a627-b5a1d94e087a",
   "metadata": {},
   "outputs": [],
   "source": [
    "import numpy as np"
   ]
  },
  {
   "cell_type": "code",
   "execution_count": 2,
   "id": "bcbda560-f293-448d-a402-2d4766325a1b",
   "metadata": {},
   "outputs": [
    {
     "name": "stdout",
     "output_type": "stream",
     "text": [
      "[[1 3]\n",
      " [2 3]]\n",
      "[[2 4]\n",
      " [5 2]]\n"
     ]
    }
   ],
   "source": [
    "#vector maths\n",
    "a = np.array([[1,3,],[2,3]])\n",
    "b= np.array([[2,4],[5,2]])\n",
    "print (a)\n",
    "print (b)"
   ]
  },
  {
   "cell_type": "code",
   "execution_count": 3,
   "id": "1d154e91-29e6-4db3-890f-8c4386f7d8fe",
   "metadata": {},
   "outputs": [
    {
     "data": {
      "text/plain": [
       "array([[17, 10],\n",
       "       [19, 14]])"
      ]
     },
     "execution_count": 3,
     "metadata": {},
     "output_type": "execute_result"
    }
   ],
   "source": [
    "#dot product\n",
    "np.dot(a,b)"
   ]
  },
  {
   "cell_type": "code",
   "execution_count": 4,
   "id": "dbc55bc5-df48-4c33-b150-e5562ba307ba",
   "metadata": {},
   "outputs": [
    {
     "data": {
      "text/plain": [
       "array([ -2, -11])"
      ]
     },
     "execution_count": 4,
     "metadata": {},
     "output_type": "execute_result"
    }
   ],
   "source": [
    "#cross product\n",
    "np.cross(a,b)"
   ]
  },
  {
   "cell_type": "code",
   "execution_count": 5,
   "id": "64aa6f84-8540-44e2-b20c-39ac6b891445",
   "metadata": {},
   "outputs": [
    {
     "data": {
      "text/plain": [
       "array([[1, 2],\n",
       "       [3, 3]])"
      ]
     },
     "execution_count": 5,
     "metadata": {},
     "output_type": "execute_result"
    }
   ],
   "source": [
    "# Transpose\n",
    "np.transpose(a)"
   ]
  },
  {
   "cell_type": "code",
   "execution_count": 8,
   "id": "3a85490f-5113-41ff-b521-93dcf1afbcfe",
   "metadata": {},
   "outputs": [
    {
     "data": {
      "text/plain": [
       "array([[1, 2],\n",
       "       [3, 3]])"
      ]
     },
     "execution_count": 8,
     "metadata": {},
     "output_type": "execute_result"
    }
   ],
   "source": [
    "a.T #It also returns the transpose"
   ]
  },
  {
   "cell_type": "code",
   "execution_count": 9,
   "id": "f81413fb-6731-452c-ad2b-a513f6c9fd6a",
   "metadata": {},
   "outputs": [
    {
     "data": {
      "text/plain": [
       "array([11, 22, 33, 44, 55, 56])"
      ]
     },
     "execution_count": 9,
     "metadata": {},
     "output_type": "execute_result"
    }
   ],
   "source": [
    "# Indexing and slicinig in 1D array\n",
    "a = np.array([11,22,33,44,55,56])\n",
    "a"
   ]
  },
  {
   "cell_type": "code",
   "execution_count": 10,
   "id": "8f8a9378-4ec7-4e4c-976c-2537e895a6fb",
   "metadata": {},
   "outputs": [
    {
     "data": {
      "text/plain": [
       "44"
      ]
     },
     "execution_count": 10,
     "metadata": {},
     "output_type": "execute_result"
    }
   ],
   "source": [
    "a[3]"
   ]
  },
  {
   "cell_type": "code",
   "execution_count": 11,
   "id": "53edbb39-5224-41ed-afed-4c0c805c4458",
   "metadata": {},
   "outputs": [
    {
     "data": {
      "text/plain": [
       "array([11, 33, 55])"
      ]
     },
     "execution_count": 11,
     "metadata": {},
     "output_type": "execute_result"
    }
   ],
   "source": [
    "#slicing\n",
    "a[::2]"
   ]
  },
  {
   "cell_type": "code",
   "execution_count": 14,
   "id": "04f3d32d-81f1-4d2e-9646-21e480f09fe4",
   "metadata": {},
   "outputs": [
    {
     "data": {
      "text/plain": [
       "array([[ 5,  4, 19, 11,  2],\n",
       "       [ 6, 19,  2,  8,  3],\n",
       "       [17,  2,  8, 11,  9],\n",
       "       [12,  6,  8,  1, 15],\n",
       "       [ 8,  3, 19, 16, 15]])"
      ]
     },
     "execution_count": 14,
     "metadata": {},
     "output_type": "execute_result"
    }
   ],
   "source": [
    "# SLicing and indexing in 2D array\n",
    "b = np.random.randint(1,20,(5,5))\n",
    "b"
   ]
  },
  {
   "cell_type": "code",
   "execution_count": 17,
   "id": "e569d5f2-a0e4-421c-8183-c807d21e142d",
   "metadata": {},
   "outputs": [
    {
     "data": {
      "text/plain": [
       "11"
      ]
     },
     "execution_count": 17,
     "metadata": {},
     "output_type": "execute_result"
    }
   ],
   "source": [
    "b[2,3] # indexing --> var[row index , col index]"
   ]
  },
  {
   "cell_type": "code",
   "execution_count": 20,
   "id": "2833a95e-2a1c-42c9-9f5b-4b94acca690c",
   "metadata": {},
   "outputs": [
    {
     "data": {
      "text/plain": [
       "array([17,  2,  8, 11,  9])"
      ]
     },
     "execution_count": 20,
     "metadata": {},
     "output_type": "execute_result"
    }
   ],
   "source": [
    "b[2] # it will print the row elements in index 2 (it is default for only row !!!)"
   ]
  },
  {
   "cell_type": "code",
   "execution_count": 21,
   "id": "0af6f96d-a6ed-4aac-8bb9-ec6788f92a50",
   "metadata": {},
   "outputs": [
    {
     "data": {
      "text/plain": [
       "array([[ 5,  4, 19, 11,  2],\n",
       "       [ 6, 19,  2,  8,  3]])"
      ]
     },
     "execution_count": 21,
     "metadata": {},
     "output_type": "execute_result"
    }
   ],
   "source": [
    "#Slicing --> var[strat , stop1 , step]\n",
    "#row slicing \n",
    "b[0:2:1]"
   ]
  },
  {
   "cell_type": "code",
   "execution_count": 22,
   "id": "a1c9371b-9d69-42c0-93c9-dbf15554c291",
   "metadata": {},
   "outputs": [
    {
     "data": {
      "text/plain": [
       "array([[ 5,  4, 19, 11,  2],\n",
       "       [ 6, 19,  2,  8,  3],\n",
       "       [17,  2,  8, 11,  9]])"
      ]
     },
     "execution_count": 22,
     "metadata": {},
     "output_type": "execute_result"
    }
   ],
   "source": [
    "#column slicing\n",
    "b[0:3:1]"
   ]
  },
  {
   "cell_type": "code",
   "execution_count": 23,
   "id": "3dc87b8a-99ad-4d02-9e06-8476f1f37e36",
   "metadata": {},
   "outputs": [
    {
     "data": {
      "text/plain": [
       "array([[ 5,  4, 19, 11,  2],\n",
       "       [ 6, 19,  2,  8,  3],\n",
       "       [17,  2,  8, 11,  9],\n",
       "       [12,  6,  8,  1, 15],\n",
       "       [ 8,  3, 19, 16, 15]])"
      ]
     },
     "execution_count": 23,
     "metadata": {},
     "output_type": "execute_result"
    }
   ],
   "source": [
    "#slicing --> var[row slicing , col slicing]\n",
    "b"
   ]
  },
  {
   "cell_type": "code",
   "execution_count": 25,
   "id": "8b39fc60-fbf0-40bc-80e4-1f40845fb917",
   "metadata": {},
   "outputs": [
    {
     "data": {
      "text/plain": [
       "array([[19,  2,  8]])"
      ]
     },
     "execution_count": 25,
     "metadata": {},
     "output_type": "execute_result"
    }
   ],
   "source": [
    "b[1:2:1 , 1:4:1]"
   ]
  },
  {
   "cell_type": "code",
   "execution_count": 39,
   "id": "337a6151-759a-49e6-acc0-2a21b459c56f",
   "metadata": {},
   "outputs": [
    {
     "data": {
      "text/plain": [
       "array([[ 5, 19,  2],\n",
       "       [ 6,  2,  3],\n",
       "       [17,  8,  9],\n",
       "       [12,  8, 15],\n",
       "       [ 8, 19, 15]])"
      ]
     },
     "execution_count": 39,
     "metadata": {},
     "output_type": "execute_result"
    }
   ],
   "source": [
    "#all rows and even columns\n",
    "b[::1 , ::2]"
   ]
  },
  {
   "cell_type": "code",
   "execution_count": 40,
   "id": "21bce40c-9255-47c0-9f24-0199b9d89141",
   "metadata": {},
   "outputs": [
    {
     "data": {
      "text/plain": [
       "array([[19,  8],\n",
       "       [ 6,  1]])"
      ]
     },
     "execution_count": 40,
     "metadata": {},
     "output_type": "execute_result"
    }
   ],
   "source": [
    "#odd rows and odd cols\n",
    "b[1::2 , 1::2]"
   ]
  },
  {
   "cell_type": "code",
   "execution_count": 45,
   "id": "aaf444f1-a97f-496a-bd61-ea0a3f1f01cf",
   "metadata": {},
   "outputs": [
    {
     "data": {
      "text/plain": [
       "array([[ 5,  2],\n",
       "       [ 8, 15]])"
      ]
     },
     "execution_count": 45,
     "metadata": {},
     "output_type": "execute_result"
    }
   ],
   "source": [
    "#concatination\n",
    "a = np.random.randint(1,20,[2,2])\n",
    "a"
   ]
  },
  {
   "cell_type": "code",
   "execution_count": 46,
   "id": "54f122c9-3623-4413-8e21-2172a913a2c8",
   "metadata": {},
   "outputs": [
    {
     "data": {
      "text/plain": [
       "array([[ 1, 16, 19, 14],\n",
       "       [ 1, 12, 16, 15]])"
      ]
     },
     "execution_count": 46,
     "metadata": {},
     "output_type": "execute_result"
    }
   ],
   "source": [
    "b = np.random.randint(1,20,[2,4])\n",
    "b"
   ]
  },
  {
   "cell_type": "code",
   "execution_count": 47,
   "id": "c4f34e68-1d68-41c3-9658-bd661789eba2",
   "metadata": {},
   "outputs": [
    {
     "data": {
      "text/plain": [
       "array([[ 9,  5,  3, 12],\n",
       "       [18, 15, 12, 12],\n",
       "       [ 4, 14,  8,  8],\n",
       "       [15,  7, 19, 12]])"
      ]
     },
     "execution_count": 47,
     "metadata": {},
     "output_type": "execute_result"
    }
   ],
   "source": [
    "c = np.random.randint(1,20,[4,4])\n",
    "c"
   ]
  },
  {
   "cell_type": "code",
   "execution_count": 54,
   "id": "58a72247-959a-4e25-969a-7e767636ba22",
   "metadata": {},
   "outputs": [
    {
     "name": "stdout",
     "output_type": "stream",
     "text": [
      "[[ 5  2  1 16 19 14]\n",
      " [ 8 15  1 12 16 15]]\n"
     ]
    }
   ],
   "source": [
    "# if the row of the mactrices are same then it can be join column wise and we call it  ----->>> axis = 1\n",
    "#if the col of matrices are same then it can be join row wise and we call it ------>>> axis = 0\n",
    "\n",
    "d = np.concatenate((a,b), axis=1) # col wise\n",
    "print(d)"
   ]
  },
  {
   "cell_type": "code",
   "execution_count": 56,
   "id": "adbc4ed4-796e-4a0c-a2ca-1e9078f4421e",
   "metadata": {},
   "outputs": [
    {
     "data": {
      "text/plain": [
       "array([[ 1, 16, 19, 14],\n",
       "       [ 1, 12, 16, 15],\n",
       "       [ 9,  5,  3, 12],\n",
       "       [18, 15, 12, 12],\n",
       "       [ 4, 14,  8,  8],\n",
       "       [15,  7, 19, 12]])"
      ]
     },
     "execution_count": 56,
     "metadata": {},
     "output_type": "execute_result"
    }
   ],
   "source": [
    "np.concatenate((b,c),axis=0) # Row wise (default)"
   ]
  },
  {
   "cell_type": "code",
   "execution_count": 60,
   "id": "29dcaf4e-00c3-412c-b096-de95353726dc",
   "metadata": {},
   "outputs": [
    {
     "name": "stdout",
     "output_type": "stream",
     "text": [
      "[[ 5  2  1 16 19 14]\n",
      " [ 8 15  1 12 16 15]]\n",
      "----------------\n",
      "[[ 1 16 19 14]\n",
      " [ 1 12 16 15]\n",
      " [ 9  5  3 12]\n",
      " [18 15 12 12]\n",
      " [ 4 14  8  8]\n",
      " [15  7 19 12]]\n"
     ]
    }
   ],
   "source": [
    "# STACK\n",
    "# if column wise joined then --> hstack or horizontal stack\n",
    "# if row wise joined then --> vstack or vertical stack\n",
    "print(np.hstack((a,b)))\n",
    "print(\"----------------\")\n",
    "print(np.vstack((b,c)))"
   ]
  },
  {
   "cell_type": "code",
   "execution_count": 61,
   "id": "a6310ae9-e3c3-45ae-b267-21cbd5c4a3f4",
   "metadata": {},
   "outputs": [
    {
     "data": {
      "text/plain": [
       "array([[1, 2, 3],\n",
       "       [4, 5, 6],\n",
       "       [7, 8, 9]])"
      ]
     },
     "execution_count": 61,
     "metadata": {},
     "output_type": "execute_result"
    }
   ],
   "source": [
    "a = np.array([[1,2,3],[4,5,6],[7,8,9]])\n",
    "a"
   ]
  },
  {
   "cell_type": "code",
   "execution_count": 67,
   "id": "1b7c4beb-cfc2-4eba-bdaf-580b4121b5e0",
   "metadata": {},
   "outputs": [
    {
     "data": {
      "text/plain": [
       "array([1, 5, 9])"
      ]
     },
     "execution_count": 67,
     "metadata": {},
     "output_type": "execute_result"
    }
   ],
   "source": [
    "np.diagonal(a) #prints only diagonal elements"
   ]
  },
  {
   "cell_type": "code",
   "execution_count": 68,
   "id": "9c5bf487-ce6c-4271-b99a-9c5c9a218d5f",
   "metadata": {},
   "outputs": [
    {
     "data": {
      "text/plain": [
       "array([[9, 8, 7],\n",
       "       [6, 5, 4],\n",
       "       [3, 2, 1]])"
      ]
     },
     "execution_count": 68,
     "metadata": {},
     "output_type": "execute_result"
    }
   ],
   "source": [
    "np.flip(a) #it will flip for both two axises"
   ]
  },
  {
   "cell_type": "code",
   "execution_count": 69,
   "id": "c1281376-d3f9-4c1c-8c9b-9237ddd73087",
   "metadata": {},
   "outputs": [
    {
     "data": {
      "text/plain": [
       "array([[3, 2, 1],\n",
       "       [6, 5, 4],\n",
       "       [9, 8, 7]])"
      ]
     },
     "execution_count": 69,
     "metadata": {},
     "output_type": "execute_result"
    }
   ],
   "source": [
    "np.flip(a,axis=1) # flip only horizontally"
   ]
  },
  {
   "cell_type": "code",
   "execution_count": 70,
   "id": "0a414ff8-504e-4ee6-bc0a-5d9b83f7f082",
   "metadata": {},
   "outputs": [
    {
     "data": {
      "text/plain": [
       "array([3, 5, 7])"
      ]
     },
     "execution_count": 70,
     "metadata": {},
     "output_type": "execute_result"
    }
   ],
   "source": [
    "np.diagonal(np.flip(a,axis=1))"
   ]
  },
  {
   "cell_type": "code",
   "execution_count": 74,
   "id": "f0308200-ed12-4cb3-ba4a-044d49247922",
   "metadata": {},
   "outputs": [
    {
     "data": {
      "text/plain": [
       "'\\n        -Pandas is a python library which is use to analyze and manipulate the data\\n        -We can also read and create datasets using pandas.\\n        -Pandas is of two types : \\n            1.Sesries (Single col) --> name\\n            2.DataFrame (Multiple cols) --> sl no , name , roll , course \\n            \\n'"
      ]
     },
     "execution_count": 74,
     "metadata": {},
     "output_type": "execute_result"
    }
   ],
   "source": [
    "#PANDAS\n",
    "import pandas as pd\n",
    "'''\n",
    "        -Pandas is a python library which is use to analyze and manipulate the data\n",
    "        -We can also read and create datasets using pandas.\n",
    "        -Pandas is of two types : \n",
    "            1.Sesries (Single col) --> name\n",
    "            2.DataFrame (Multiple cols) --> sl no , name , roll , course \n",
    "            \n",
    "'''"
   ]
  },
  {
   "cell_type": "code",
   "execution_count": 75,
   "id": "aa01f4b1-a58f-46a6-b17a-0267ea83a7ba",
   "metadata": {},
   "outputs": [
    {
     "data": {
      "text/plain": [
       "0    a\n",
       "1    b\n",
       "2    c\n",
       "3    d\n",
       "4    e\n",
       "dtype: object"
      ]
     },
     "execution_count": 75,
     "metadata": {},
     "output_type": "execute_result"
    }
   ],
   "source": [
    "#creating series\n",
    "\n",
    "s = pd.Series(['a','b','c','d','e'])\n",
    "s"
   ]
  },
  {
   "cell_type": "code",
   "execution_count": 76,
   "id": "13f1b526-0503-4ad3-a9a8-8e55254b0bcc",
   "metadata": {},
   "outputs": [
    {
     "data": {
      "text/plain": [
       "pandas.core.series.Series"
      ]
     },
     "execution_count": 76,
     "metadata": {},
     "output_type": "execute_result"
    }
   ],
   "source": [
    "type(s)"
   ]
  },
  {
   "cell_type": "code",
   "execution_count": 78,
   "id": "8c8068d1-8c24-4171-9b05-56bffc458195",
   "metadata": {},
   "outputs": [
    {
     "data": {
      "text/plain": [
       "10    a\n",
       "20    b\n",
       "30    c\n",
       "40    d\n",
       "50    e\n",
       "dtype: object"
      ]
     },
     "execution_count": 78,
     "metadata": {},
     "output_type": "execute_result"
    }
   ],
   "source": [
    "#using sets\n",
    "s = pd.Series(['a','b','c','d','e'] , index=[10,20,30,40,50]) #length of index and values should be same\n",
    "s"
   ]
  },
  {
   "cell_type": "code",
   "execution_count": 79,
   "id": "96d14634-2775-48bf-b956-956e18f7a9a5",
   "metadata": {},
   "outputs": [
    {
     "data": {
      "text/plain": [
       "'b'"
      ]
     },
     "execution_count": 79,
     "metadata": {},
     "output_type": "execute_result"
    }
   ],
   "source": [
    "s[20] #indexing"
   ]
  },
  {
   "cell_type": "code",
   "execution_count": 80,
   "id": "829d9f2b-c06a-46ca-8137-14a2c0f60b6d",
   "metadata": {},
   "outputs": [
    {
     "data": {
      "text/plain": [
       "10    a\n",
       "20    b\n",
       "20    c\n",
       "40    d\n",
       "50    e\n",
       "dtype: object"
      ]
     },
     "execution_count": 80,
     "metadata": {},
     "output_type": "execute_result"
    }
   ],
   "source": [
    "s = pd.Series(['a','b','c','d','e'] , index=[10,20,20,40,50])\n",
    "s"
   ]
  },
  {
   "cell_type": "code",
   "execution_count": 82,
   "id": "ba212421-8caf-44a6-885b-947e203f3156",
   "metadata": {},
   "outputs": [
    {
     "data": {
      "text/plain": [
       "20    b\n",
       "20    c\n",
       "dtype: object"
      ]
     },
     "execution_count": 82,
     "metadata": {},
     "output_type": "execute_result"
    }
   ],
   "source": [
    "s[20] # it will show two values on index 20"
   ]
  },
  {
   "cell_type": "code",
   "execution_count": 83,
   "id": "c2b61d00-8724-4a3c-b861-48111d9866e1",
   "metadata": {},
   "outputs": [
    {
     "data": {
      "text/plain": [
       "0    10\n",
       "1    20\n",
       "2    30\n",
       "3    40\n",
       "dtype: int64"
      ]
     },
     "execution_count": 83,
     "metadata": {},
     "output_type": "execute_result"
    }
   ],
   "source": [
    "#using tuple\n",
    "t = pd.Series((10,20,30,40))\n",
    "t"
   ]
  },
  {
   "cell_type": "code",
   "execution_count": 86,
   "id": "0186ff96-889c-4415-9db4-1f8e0654c942",
   "metadata": {},
   "outputs": [],
   "source": [
    "#set to series\n",
    "#s = pd.Series({10,20,30,40,50}) #it can't be --> type Error!\n",
    "#s"
   ]
  },
  {
   "cell_type": "code",
   "execution_count": 97,
   "id": "b6adc926-fa39-4794-97c9-8be7e850088c",
   "metadata": {},
   "outputs": [
    {
     "data": {
      "text/plain": [
       "a    1\n",
       "b    2\n",
       "c    3\n",
       "d    4\n",
       "dtype: int64"
      ]
     },
     "execution_count": 97,
     "metadata": {},
     "output_type": "execute_result"
    }
   ],
   "source": [
    "#dictionary to Series\n",
    "d = pd.Series({'a':1,'b':2,'c':3,'d':4}) # it will take key as index and value as value\n",
    "d"
   ]
  },
  {
   "cell_type": "code",
   "execution_count": 101,
   "id": "87539c39-9a7f-4dc0-b86b-9abadb6d593c",
   "metadata": {},
   "outputs": [
    {
     "data": {
      "text/plain": [
       "1"
      ]
     },
     "execution_count": 101,
     "metadata": {},
     "output_type": "execute_result"
    }
   ],
   "source": [
    "#indexing in dict\n",
    "d['a']"
   ]
  },
  {
   "cell_type": "code",
   "execution_count": 102,
   "id": "196cfa1c-81b0-4aa7-8a68-7bbf2160a264",
   "metadata": {},
   "outputs": [
    {
     "name": "stderr",
     "output_type": "stream",
     "text": [
      "C:\\Users\\91732\\AppData\\Local\\Temp\\ipykernel_5920\\708413107.py:1: FutureWarning: Series.__getitem__ treating keys as positions is deprecated. In a future version, integer keys will always be treated as labels (consistent with DataFrame behavior). To access a value by position, use `ser.iloc[pos]`\n",
      "  d[1]\n"
     ]
    },
    {
     "data": {
      "text/plain": [
       "2"
      ]
     },
     "execution_count": 102,
     "metadata": {},
     "output_type": "execute_result"
    }
   ],
   "source": [
    "d[1]"
   ]
  },
  {
   "cell_type": "code",
   "execution_count": 103,
   "id": "a2010891-d858-4f36-b32e-f9be98027ed3",
   "metadata": {},
   "outputs": [
    {
     "data": {
      "text/plain": [
       "e   NaN\n",
       "f   NaN\n",
       "g   NaN\n",
       "h   NaN\n",
       "dtype: float64"
      ]
     },
     "execution_count": 103,
     "metadata": {},
     "output_type": "execute_result"
    }
   ],
   "source": [
    "a = pd.Series({'a':1,'b':2,'c':3,'d':4},index=['e','f','g','h']) #key is always unique if once a value is assigned to a key then key cannot be changed\n",
    "a"
   ]
  },
  {
   "cell_type": "code",
   "execution_count": 104,
   "id": "b036a385-8369-4aef-9b4f-94508e086efe",
   "metadata": {},
   "outputs": [
    {
     "data": {
      "text/plain": [
       "b    2\n",
       "c    3\n",
       "dtype: int64"
      ]
     },
     "execution_count": 104,
     "metadata": {},
     "output_type": "execute_result"
    }
   ],
   "source": [
    "#Slicing\n",
    "d['b':'c']"
   ]
  },
  {
   "cell_type": "code",
   "execution_count": 105,
   "id": "d367cbbf-4519-42c2-b393-22186aedeacb",
   "metadata": {},
   "outputs": [
    {
     "data": {
      "text/plain": [
       "b    2\n",
       "c    3\n",
       "dtype: int64"
      ]
     },
     "execution_count": 105,
     "metadata": {},
     "output_type": "execute_result"
    }
   ],
   "source": [
    "d[1:3:1]"
   ]
  },
  {
   "cell_type": "code",
   "execution_count": null,
   "id": "6b1bb840-3896-4b60-90fe-05b23ef38b4a",
   "metadata": {},
   "outputs": [],
   "source": []
  }
 ],
 "metadata": {
  "kernelspec": {
   "display_name": "Python 3 (ipykernel)",
   "language": "python",
   "name": "python3"
  },
  "language_info": {
   "codemirror_mode": {
    "name": "ipython",
    "version": 3
   },
   "file_extension": ".py",
   "mimetype": "text/x-python",
   "name": "python",
   "nbconvert_exporter": "python",
   "pygments_lexer": "ipython3",
   "version": "3.10.7"
  }
 },
 "nbformat": 4,
 "nbformat_minor": 5
}
