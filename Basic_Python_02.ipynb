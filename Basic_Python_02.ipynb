{
 "cells": [
  {
   "cell_type": "code",
   "execution_count": 13,
   "id": "c4a28615-9c92-4464-adb0-26cb91fd1d54",
   "metadata": {},
   "outputs": [],
   "source": [
    "a = 2\n",
    "b = 2\n",
    "c = [1,2,3,4]\n",
    "d = [1,2,3,4]"
   ]
  },
  {
   "cell_type": "code",
   "execution_count": 16,
   "id": "9f8769b5-821c-4017-afe9-d733a997b5e2",
   "metadata": {},
   "outputs": [
    {
     "data": {
      "text/plain": [
       "True"
      ]
     },
     "execution_count": 16,
     "metadata": {},
     "output_type": "execute_result"
    }
   ],
   "source": [
    "a is b\n"
   ]
  },
  {
   "cell_type": "code",
   "execution_count": 17,
   "id": "4c6a27e2-b39f-477f-b720-e0d68e42ea8c",
   "metadata": {},
   "outputs": [
    {
     "data": {
      "text/plain": [
       "False"
      ]
     },
     "execution_count": 17,
     "metadata": {},
     "output_type": "execute_result"
    }
   ],
   "source": [
    "c is d"
   ]
  },
  {
   "cell_type": "code",
   "execution_count": 10,
   "id": "33ac8833-5c97-4d27-bc98-045440e3ebbe",
   "metadata": {},
   "outputs": [
    {
     "data": {
      "text/plain": [
       "1684914010320"
      ]
     },
     "execution_count": 10,
     "metadata": {},
     "output_type": "execute_result"
    }
   ],
   "source": [
    "id(a)"
   ]
  },
  {
   "cell_type": "code",
   "execution_count": 11,
   "id": "aee3fc02-beaa-4b14-9638-0aaf7f958b6d",
   "metadata": {},
   "outputs": [
    {
     "data": {
      "text/plain": [
       "1684914010224"
      ]
     },
     "execution_count": 11,
     "metadata": {},
     "output_type": "execute_result"
    }
   ],
   "source": [
    "id(b)"
   ]
  },
  {
   "cell_type": "code",
   "execution_count": 5,
   "id": "86a8e2d5-0fe7-40e0-916d-0f6daa272b58",
   "metadata": {},
   "outputs": [
    {
     "name": "stdout",
     "output_type": "stream",
     "text": [
      "hello miss\n"
     ]
    }
   ],
   "source": [
    "#String functions\n",
    "#print function\n",
    "print('hello miss')"
   ]
  },
  {
   "cell_type": "code",
   "execution_count": 23,
   "id": "6ad5b6f1-3e98-44ba-a479-e5646e3913a8",
   "metadata": {},
   "outputs": [
    {
     "data": {
      "text/plain": [
       "'cat,Dog'"
      ]
     },
     "execution_count": 23,
     "metadata": {},
     "output_type": "execute_result"
    }
   ],
   "source": [
    "\"cat\"+\",\"+\"Dog\""
   ]
  },
  {
   "cell_type": "code",
   "execution_count": 1,
   "id": "99c76bc9-a842-4a62-bd2d-e23fe2c8852f",
   "metadata": {},
   "outputs": [
    {
     "name": "stdin",
     "output_type": "stream",
     "text": [
      " e\n"
     ]
    },
    {
     "data": {
      "text/plain": [
       "'e'"
      ]
     },
     "execution_count": 1,
     "metadata": {},
     "output_type": "execute_result"
    }
   ],
   "source": [
    "input()"
   ]
  },
  {
   "cell_type": "code",
   "execution_count": 4,
   "id": "e13f95d8-443a-41fe-b83d-a86a575eb700",
   "metadata": {},
   "outputs": [
    {
     "name": "stdout",
     "output_type": "stream",
     "text": [
      "Debashish Rout\n"
     ]
    }
   ],
   "source": [
    "print(name)"
   ]
  },
  {
   "cell_type": "code",
   "execution_count": 1,
   "id": "9f6a5dfd-a228-4a9f-9b03-7af2dec3aa42",
   "metadata": {},
   "outputs": [],
   "source": [
    "#n1 = int(input(\"Enter a number : \"))\n",
    "#n2 = int(input(\"Enter another number : \"))"
   ]
  },
  {
   "cell_type": "code",
   "execution_count": 8,
   "id": "594d8ff6-a3f3-4975-b9df-acf700f0b4dd",
   "metadata": {},
   "outputs": [
    {
     "name": "stdout",
     "output_type": "stream",
     "text": [
      "Greater\n"
     ]
    }
   ],
   "source": [
    "#Identation in python\n",
    "#it denotes as a block and for this we have to tab one time or 4 spaces\n",
    "\n",
    "if 10>5:\n",
    "    print(\"Greater\") # this is important to keep a single tab or 4 spaces before print because it is in a block and the space is indentation"
   ]
  },
  {
   "cell_type": "code",
   "execution_count": 7,
   "id": "76c97c34-a721-44d3-8d7b-9e692838fc92",
   "metadata": {},
   "outputs": [
    {
     "name": "stdout",
     "output_type": "stream",
     "text": [
      "Odd\n"
     ]
    }
   ],
   "source": [
    "# Conditional statements\n",
    "n =  9\n",
    "if n%2 == 0:\n",
    "    print(\"Even\")\n",
    "else:\n",
    "    print(\"Odd\")\n",
    "         "
   ]
  },
  {
   "cell_type": "code",
   "execution_count": 9,
   "id": "2b6ebbf5-0e96-46c1-9b07-712b1cc553a5",
   "metadata": {},
   "outputs": [
    {
     "name": "stdout",
     "output_type": "stream",
     "text": [
      "You are eligible for vote\n"
     ]
    }
   ],
   "source": [
    "age = 19\n",
    "if age>=18 and age<=100:\n",
    "    print(\"You are eligible for vote\")\n",
    "else:\n",
    "    print(\"nikal yaha se \")\n",
    "    "
   ]
  },
  {
   "cell_type": "code",
   "execution_count": 7,
   "id": "122669d6-a623-4805-aa0d-0b933867e11b",
   "metadata": {},
   "outputs": [
    {
     "name": "stdout",
     "output_type": "stream",
     "text": [
      "No guys... lets chill with netflix\n"
     ]
    }
   ],
   "source": [
    "#nested\n",
    "a = 'n'\n",
    "if a=='y':\n",
    "    b = 'y'\n",
    "    if b=='y':\n",
    "        c = 'bike'\n",
    "        if c=='bike':\n",
    "            print(\"lets take a bike ride boyzz\")\n",
    "        else:\n",
    "            print(\"lets take a car ride guys\")\n",
    "\n",
    "    else:\n",
    "        print(\"Ohh shit! Weather is not good lets plan for tomorrow...\")\n",
    "else:\n",
    "    print(\"No guys... lets chill with netflix\")"
   ]
  },
  {
   "cell_type": "code",
   "execution_count": 9,
   "id": "c0d3ece5-4d20-469a-abbe-e907b2f3f57a",
   "metadata": {},
   "outputs": [
    {
     "name": "stdout",
     "output_type": "stream",
     "text": [
      "Odd & Positive\n"
     ]
    }
   ],
   "source": [
    "n = 25\n",
    "if n%2==0:\n",
    "    if n>0:\n",
    "        print(\"Even & Positive\")\n",
    "    else:\n",
    "        print(\"Even & Negetive\")\n",
    "else:\n",
    "    if n>0:\n",
    "        print(\"Odd & Positive\")\n",
    "    else:\n",
    "        print(\"Odd & Negetive\")"
   ]
  },
  {
   "cell_type": "code",
   "execution_count": 15,
   "id": "5ee848e5-b5fd-4b6e-a502-e206c665e9ea",
   "metadata": {},
   "outputs": [
    {
     "name": "stdout",
     "output_type": "stream",
     "text": [
      "invalid input\n"
     ]
    }
   ],
   "source": [
    "#Gradinng \n",
    "name = \"Debashish\"\n",
    "roll = 43\n",
    "mark = 105\n",
    "if mark>=90 and mark<=100:\n",
    "    print(\"Grade A\")\n",
    "elif mark>=80 and mark<90:\n",
    "    print(\"Grade B\")\n",
    "elif mark>=60 and mark<80:\n",
    "    print(\"Grade C\")\n",
    "elif mark>=50 and mark<60:\n",
    "    print(\"Grade D\")\n",
    "elif mark>=40 and mark<50:\n",
    "    print(\"Grade E\")\n",
    "elif mark<40:\n",
    "    print(\"Better luck next time ....FAIL !!!\")\n",
    "else:\n",
    "    print('invalid input')"
   ]
  },
  {
   "cell_type": "code",
   "execution_count": 11,
   "id": "8ce1c176-a152-4ad1-820c-8df9e09478dd",
   "metadata": {},
   "outputs": [
    {
     "name": "stdout",
     "output_type": "stream",
     "text": [
      "Inputted character is a vowel...\n"
     ]
    }
   ],
   "source": [
    "#Identify vowel or consonant\n",
    "char = 'A'\n",
    "if char.lower() in \"aeiou\":\n",
    "    print (\"Inputted character is a vowel...\")\n",
    "else:\n",
    "    print (\"Inputted character is a consonant...\")"
   ]
  },
  {
   "cell_type": "code",
   "execution_count": 31,
   "id": "324e4a49-6f72-4bdc-b933-4594608d463b",
   "metadata": {},
   "outputs": [
    {
     "name": "stdout",
     "output_type": "stream",
     "text": [
      "Rout\n"
     ]
    }
   ],
   "source": [
    "#Display only surname \n",
    "name = \"Debashish Rout\"\n",
    "x = name.split()\n",
    "print(x[-1])"
   ]
  },
  {
   "cell_type": "code",
   "execution_count": null,
   "id": "cdfaa190-d77b-48ce-8f5e-fa06e9bb31b3",
   "metadata": {},
   "outputs": [],
   "source": [
    "#   for i in collection  --> here 'i' is considered as iterator and 'in' as membership operator and collection is sequential data\n",
    "#   sequential data means it can be list ,String, tupple, set, dictonary\n"
   ]
  }
 ],
 "metadata": {
  "kernelspec": {
   "display_name": "Python 3 (ipykernel)",
   "language": "python",
   "name": "python3"
  },
  "language_info": {
   "codemirror_mode": {
    "name": "ipython",
    "version": 3
   },
   "file_extension": ".py",
   "mimetype": "text/x-python",
   "name": "python",
   "nbconvert_exporter": "python",
   "pygments_lexer": "ipython3",
   "version": "3.10.7"
  }
 },
 "nbformat": 4,
 "nbformat_minor": 5
}
