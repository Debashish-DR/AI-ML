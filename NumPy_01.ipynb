{
 "cells": [
  {
   "cell_type": "code",
   "execution_count": 1,
   "id": "0b1a9fd0-c4d3-449a-83a1-427097487186",
   "metadata": {},
   "outputs": [],
   "source": [
    "#NumPy\n",
    "import numpy as np\n"
   ]
  },
  {
   "cell_type": "code",
   "execution_count": 2,
   "id": "53bc5201-1fde-45ab-8432-bd837caef656",
   "metadata": {},
   "outputs": [
    {
     "name": "stdout",
     "output_type": "stream",
     "text": [
      "[1 2 3 4 5]\n"
     ]
    }
   ],
   "source": [
    "#Creating 1D Array\n",
    "a = np.array([1,2,3,4,5])\n",
    "print(a)"
   ]
  },
  {
   "cell_type": "code",
   "execution_count": 4,
   "id": "e13aa747-1d3e-4d35-8403-365d493ed6c0",
   "metadata": {},
   "outputs": [
    {
     "data": {
      "text/plain": [
       "numpy.ndarray"
      ]
     },
     "execution_count": 4,
     "metadata": {},
     "output_type": "execute_result"
    }
   ],
   "source": [
    "type(a) #ndArray --> n-dimensional array"
   ]
  },
  {
   "cell_type": "code",
   "execution_count": 5,
   "id": "f1914d93-9e3b-414b-92bd-d3eacd0d3504",
   "metadata": {},
   "outputs": [
    {
     "data": {
      "text/plain": [
       "array(['1', '2', 'cat', 'True', '40'], dtype='<U11')"
      ]
     },
     "execution_count": 5,
     "metadata": {},
     "output_type": "execute_result"
    }
   ],
   "source": [
    "b = np.array([1,2,'cat',True,'40']) #this shows array is a collection of homogeneous elements\n",
    "b"
   ]
  },
  {
   "cell_type": "code",
   "execution_count": 6,
   "id": "0de8b964-314d-455b-8b97-aa1bad9ff1d7",
   "metadata": {},
   "outputs": [
    {
     "data": {
      "text/plain": [
       "array([10, 20, 30, 40])"
      ]
     },
     "execution_count": 6,
     "metadata": {},
     "output_type": "execute_result"
    }
   ],
   "source": [
    "#tupple to array\n",
    "t = np.array((10,20,30,40))\n",
    "t"
   ]
  },
  {
   "cell_type": "code",
   "execution_count": 11,
   "id": "4c9e2a38-3a60-4a5b-b5db-88ab6460a316",
   "metadata": {},
   "outputs": [
    {
     "data": {
      "text/plain": [
       "array({1, 2, 3, 4, 6}, dtype=object)"
      ]
     },
     "execution_count": 11,
     "metadata": {},
     "output_type": "execute_result"
    }
   ],
   "source": [
    "# set to array\n",
    "s = np.array({1,2,3,4,1,4,6}) # it considers the set as one element of array\n",
    "s"
   ]
  },
  {
   "cell_type": "code",
   "execution_count": 12,
   "id": "ef581e0c-7adc-4459-b5db-f11a38381da3",
   "metadata": {},
   "outputs": [
    {
     "data": {
      "text/plain": [
       "array({'a': 1, 'b': 2, 'c': 3}, dtype=object)"
      ]
     },
     "execution_count": 12,
     "metadata": {},
     "output_type": "execute_result"
    }
   ],
   "source": [
    "#dictionary to array\n",
    "d = np.array({'a':1,'b':2,'c':3})    # it considers the set as one element of array\n",
    "d"
   ]
  },
  {
   "cell_type": "code",
   "execution_count": 13,
   "id": "23968e30-7d82-4b0b-bf0f-134371587064",
   "metadata": {},
   "outputs": [
    {
     "data": {
      "text/plain": [
       "array([[1, 2, 3],\n",
       "       [4, 5, 6]])"
      ]
     },
     "execution_count": 13,
     "metadata": {},
     "output_type": "execute_result"
    }
   ],
   "source": [
    "#Creatng 2D Array\n",
    "a = np.array([[1,2,3],[4,5,6]])\n",
    "a"
   ]
  },
  {
   "cell_type": "code",
   "execution_count": 16,
   "id": "ef9ec615-11d3-4e71-be8b-9f0fc716c379",
   "metadata": {},
   "outputs": [
    {
     "name": "stdout",
     "output_type": "stream",
     "text": [
      "[[1 2 4]\n",
      " [5 6 7]]\n"
     ]
    }
   ],
   "source": [
    "#using tupple\n",
    "t = np.array([(1,2,4) , (5,6,7)])\n",
    "print(t)"
   ]
  },
  {
   "cell_type": "code",
   "execution_count": 19,
   "id": "732979d1-9b4c-481c-bd21-232ed420d231",
   "metadata": {},
   "outputs": [],
   "source": [
    "#a = np.array([[1,2,3],[4,5,6,6,7,8,9]]) #we cannot mismatch the array size\n",
    "#a"
   ]
  },
  {
   "cell_type": "code",
   "execution_count": 21,
   "id": "105b637c-cae2-4a8d-bb7e-c9d679fb888e",
   "metadata": {},
   "outputs": [
    {
     "data": {
      "text/plain": [
       "array([[ 1,  2,  3,  4],\n",
       "       [ 4,  5,  6,  7],\n",
       "       [ 8,  9, 10, 11]])"
      ]
     },
     "execution_count": 21,
     "metadata": {},
     "output_type": "execute_result"
    }
   ],
   "source": [
    "a = np.array([[1,2,3,4],[4,5,6,7],[8,9,10,11]])\n",
    "a"
   ]
  },
  {
   "cell_type": "code",
   "execution_count": 22,
   "id": "d866b7d6-ead1-4f17-9880-10065f3b9cf6",
   "metadata": {},
   "outputs": [
    {
     "data": {
      "text/plain": [
       "(3, 4)"
      ]
     },
     "execution_count": 22,
     "metadata": {},
     "output_type": "execute_result"
    }
   ],
   "source": [
    "#Array attributes\n",
    "a.shape #to check shape of the array\n"
   ]
  },
  {
   "cell_type": "code",
   "execution_count": 23,
   "id": "8b0ed2f1-b721-452c-8900-83178a6cb687",
   "metadata": {},
   "outputs": [
    {
     "data": {
      "text/plain": [
       "12"
      ]
     },
     "execution_count": 23,
     "metadata": {},
     "output_type": "execute_result"
    }
   ],
   "source": [
    "a.size #size of the array"
   ]
  },
  {
   "cell_type": "code",
   "execution_count": 24,
   "id": "d9f70988-7228-405d-8477-b7c8d0a158f6",
   "metadata": {},
   "outputs": [
    {
     "data": {
      "text/plain": [
       "2"
      ]
     },
     "execution_count": 24,
     "metadata": {},
     "output_type": "execute_result"
    }
   ],
   "source": [
    "a.ndim #dimension"
   ]
  },
  {
   "cell_type": "code",
   "execution_count": 26,
   "id": "2e83c943-ba8f-4a27-81d9-1106c1ea24ba",
   "metadata": {},
   "outputs": [
    {
     "data": {
      "text/plain": [
       "array([1, 3, 5, 7, 9])"
      ]
     },
     "execution_count": 26,
     "metadata": {},
     "output_type": "execute_result"
    }
   ],
   "source": [
    "#arange : it returns a 1D array of given range/sequence\n",
    "np.arange(1,11,2)\n"
   ]
  },
  {
   "cell_type": "code",
   "execution_count": 27,
   "id": "7642f4f7-1a20-47aa-8522-3c8fc863a57c",
   "metadata": {},
   "outputs": [
    {
     "data": {
      "text/plain": [
       "array([0., 0., 0., 0., 0.])"
      ]
     },
     "execution_count": 27,
     "metadata": {},
     "output_type": "execute_result"
    }
   ],
   "source": [
    "#zeros\n",
    "np.zeros(5)"
   ]
  },
  {
   "cell_type": "code",
   "execution_count": 31,
   "id": "35a500c0-b5f3-401b-a023-2900c7bb5edf",
   "metadata": {},
   "outputs": [
    {
     "data": {
      "text/plain": [
       "array([[0., 0., 0., 0., 0.],\n",
       "       [0., 0., 0., 0., 0.],\n",
       "       [0., 0., 0., 0., 0.],\n",
       "       [0., 0., 0., 0., 0.],\n",
       "       [0., 0., 0., 0., 0.]])"
      ]
     },
     "execution_count": 31,
     "metadata": {},
     "output_type": "execute_result"
    }
   ],
   "source": [
    "np.zeros((5,5)) # 0. because default datatype of array is float"
   ]
  },
  {
   "cell_type": "code",
   "execution_count": 32,
   "id": "b27eba45-ad2b-4cc9-8c52-d78fa7138940",
   "metadata": {},
   "outputs": [
    {
     "data": {
      "text/plain": [
       "array([[0, 0, 0, 0],\n",
       "       [0, 0, 0, 0],\n",
       "       [0, 0, 0, 0],\n",
       "       [0, 0, 0, 0]])"
      ]
     },
     "execution_count": 32,
     "metadata": {},
     "output_type": "execute_result"
    }
   ],
   "source": [
    "np.zeros((4,4),dtype='int') #to convert datatype to integer"
   ]
  },
  {
   "cell_type": "code",
   "execution_count": 34,
   "id": "4c40c3c3-3d1a-40ef-8639-d445b0f4ce66",
   "metadata": {},
   "outputs": [
    {
     "data": {
      "text/plain": [
       "array([[0, 0, 0, 0],\n",
       "       [0, 0, 0, 0],\n",
       "       [0, 0, 0, 0],\n",
       "       [0, 0, 0, 0]])"
      ]
     },
     "execution_count": 34,
     "metadata": {},
     "output_type": "execute_result"
    }
   ],
   "source": [
    "np.zeros((4,4),dtype=np.int32) #to convert datatype to integer"
   ]
  },
  {
   "cell_type": "code",
   "execution_count": 35,
   "id": "db4b9cf6-07ba-4115-ba02-df8c966abc12",
   "metadata": {},
   "outputs": [
    {
     "data": {
      "text/plain": [
       "array([[0, 0, 0, 0, 0],\n",
       "       [0, 0, 0, 0, 0],\n",
       "       [0, 0, 0, 0, 0],\n",
       "       [0, 0, 0, 0, 0],\n",
       "       [0, 0, 0, 0, 0]])"
      ]
     },
     "execution_count": 35,
     "metadata": {},
     "output_type": "execute_result"
    }
   ],
   "source": [
    "c = np.zeros((5,5)) \n",
    "c.astype('int')    #to convert datatype to integer"
   ]
  },
  {
   "cell_type": "code",
   "execution_count": 36,
   "id": "af9fdc37-b00a-4154-81ba-d0d39b26dfa4",
   "metadata": {},
   "outputs": [
    {
     "data": {
      "text/plain": [
       "array([1., 1., 1., 1., 1.])"
      ]
     },
     "execution_count": 36,
     "metadata": {},
     "output_type": "execute_result"
    }
   ],
   "source": [
    "#np.ones()\n",
    "np.ones((5))"
   ]
  },
  {
   "cell_type": "code",
   "execution_count": 37,
   "id": "e7066f28-3f8b-48bc-8d54-74d3bde8c659",
   "metadata": {},
   "outputs": [
    {
     "data": {
      "text/plain": [
       "array([[1., 1., 1., 1., 1.],\n",
       "       [1., 1., 1., 1., 1.],\n",
       "       [1., 1., 1., 1., 1.],\n",
       "       [1., 1., 1., 1., 1.],\n",
       "       [1., 1., 1., 1., 1.]])"
      ]
     },
     "execution_count": 37,
     "metadata": {},
     "output_type": "execute_result"
    }
   ],
   "source": [
    "np.ones((5,5))"
   ]
  },
  {
   "cell_type": "code",
   "execution_count": 39,
   "id": "6bd1726d-195c-43a5-b17e-f170e67d6000",
   "metadata": {},
   "outputs": [
    {
     "data": {
      "text/plain": [
       "array([[4.5, 4.5, 4.5, 4.5, 4.5],\n",
       "       [4.5, 4.5, 4.5, 4.5, 4.5],\n",
       "       [4.5, 4.5, 4.5, 4.5, 4.5],\n",
       "       [4.5, 4.5, 4.5, 4.5, 4.5],\n",
       "       [4.5, 4.5, 4.5, 4.5, 4.5]])"
      ]
     },
     "execution_count": 39,
     "metadata": {},
     "output_type": "execute_result"
    }
   ],
   "source": [
    "#for all digits\n",
    "#full\n",
    "np.full((5,5),4.5)"
   ]
  },
  {
   "cell_type": "code",
   "execution_count": 40,
   "id": "2bba4a75-23d3-463b-9c27-fa4d6704fb93",
   "metadata": {},
   "outputs": [
    {
     "data": {
      "text/plain": [
       "array([[1, 0, 0, 0, 0],\n",
       "       [0, 1, 0, 0, 0],\n",
       "       [0, 0, 1, 0, 0],\n",
       "       [0, 0, 0, 1, 0],\n",
       "       [0, 0, 0, 0, 1]])"
      ]
     },
     "execution_count": 40,
     "metadata": {},
     "output_type": "execute_result"
    }
   ],
   "source": [
    "#eye --> identity matrix\n",
    "np.eye(5,dtype = 'int')"
   ]
  },
  {
   "cell_type": "code",
   "execution_count": 44,
   "id": "5c71841c-5d4e-4bd2-8090-9acfb14a7875",
   "metadata": {},
   "outputs": [
    {
     "data": {
      "text/plain": [
       "array([  1.,  12.,  23.,  34.,  45.,  56.,  67.,  78.,  89., 100.])"
      ]
     },
     "execution_count": 44,
     "metadata": {},
     "output_type": "execute_result"
    }
   ],
   "source": [
    "#linspace - equally distributed numbers \n",
    "np.linspace(1,100,10)   #here range is 1 to 100 and wanted number is 10 --> it will print 10 random numbers between 1 to 100 "
   ]
  },
  {
   "cell_type": "code",
   "execution_count": 45,
   "id": "2b156650-2a30-447e-b50e-43c36f812f31",
   "metadata": {},
   "outputs": [
    {
     "data": {
      "text/plain": [
       "0.6378022952498228"
      ]
     },
     "execution_count": 45,
     "metadata": {},
     "output_type": "execute_result"
    }
   ],
   "source": [
    "#random numbers \n",
    "np.random.rand() #it will return random values between 0 to 1"
   ]
  },
  {
   "cell_type": "code",
   "execution_count": 47,
   "id": "7aeb2dfb-528e-4ab9-a32c-d89d425bf3f7",
   "metadata": {},
   "outputs": [
    {
     "data": {
      "text/plain": [
       "array([0.07256541, 0.21065382, 0.04357191, 0.92838287])"
      ]
     },
     "execution_count": 47,
     "metadata": {},
     "output_type": "execute_result"
    }
   ],
   "source": [
    "np.random.rand(4) #it will return a 1D array of 4 random numbers betweeen 0 to 1"
   ]
  },
  {
   "cell_type": "code",
   "execution_count": 48,
   "id": "b8e757e7-bf21-4b24-b826-834c25debaa3",
   "metadata": {},
   "outputs": [
    {
     "data": {
      "text/plain": [
       "array([[0.17178262, 0.43898269, 0.21322961, 0.93234853],\n",
       "       [0.67404637, 0.19663762, 0.37382401, 0.46119537],\n",
       "       [0.38506402, 0.53377258, 0.88683243, 0.62662217],\n",
       "       [0.46127786, 0.93081617, 0.13499827, 0.66266063]])"
      ]
     },
     "execution_count": 48,
     "metadata": {},
     "output_type": "execute_result"
    }
   ],
   "source": [
    "np.random.rand(4,4) #it will return a 2D array 4x4 betweeen 0 to 1"
   ]
  },
  {
   "cell_type": "code",
   "execution_count": 50,
   "id": "d873e341-c5aa-44e3-8855-51d8db2b1f93",
   "metadata": {},
   "outputs": [
    {
     "data": {
      "text/plain": [
       "16"
      ]
     },
     "execution_count": 50,
     "metadata": {},
     "output_type": "execute_result"
    }
   ],
   "source": [
    "np.random.randint(1,20) #returns random value between 1 to 20 in integer"
   ]
  },
  {
   "cell_type": "code",
   "execution_count": 51,
   "id": "281176a1-3176-4a3f-8eb6-1296f8721582",
   "metadata": {},
   "outputs": [
    {
     "data": {
      "text/plain": [
       "array([[ 4, 16, 11, 15],\n",
       "       [ 3, 12,  4,  3],\n",
       "       [14, 18,  2,  8],\n",
       "       [ 1, 15, 17, 11]])"
      ]
     },
     "execution_count": 51,
     "metadata": {},
     "output_type": "execute_result"
    }
   ],
   "source": [
    "np.random.randint(1,20,(4,4)) #returns 2D array of random value between 1 to 20 in integer"
   ]
  },
  {
   "cell_type": "code",
   "execution_count": 53,
   "id": "3d875178-0ae7-452d-969c-c49dd2eecc1a",
   "metadata": {},
   "outputs": [
    {
     "name": "stdout",
     "output_type": "stream",
     "text": [
      "[1 2 3 4 5]\n",
      "[7 8 9 1 6]\n"
     ]
    }
   ],
   "source": [
    "#mathematical operations\n",
    "a = np.array([1,2,3,4,5])\n",
    "b = np.array([7,8,9,1,6])\n",
    "print(a)\n",
    "print(b)"
   ]
  },
  {
   "cell_type": "code",
   "execution_count": 54,
   "id": "4addf24a-0a44-4a33-8b36-a208b9066eca",
   "metadata": {},
   "outputs": [
    {
     "data": {
      "text/plain": [
       "array([ 8, 10, 12,  5, 11])"
      ]
     },
     "execution_count": 54,
     "metadata": {},
     "output_type": "execute_result"
    }
   ],
   "source": [
    "np.add(a,b)"
   ]
  },
  {
   "cell_type": "code",
   "execution_count": 56,
   "id": "6cc05165-30f9-4b31-93d0-f386706f2b20",
   "metadata": {},
   "outputs": [
    {
     "data": {
      "text/plain": [
       "array([ 6,  6,  6, -3,  1])"
      ]
     },
     "execution_count": 56,
     "metadata": {},
     "output_type": "execute_result"
    }
   ],
   "source": [
    "np.subtract(b,a)"
   ]
  },
  {
   "cell_type": "code",
   "execution_count": 57,
   "id": "5640e6df-9197-4283-b038-ea7571acc33c",
   "metadata": {},
   "outputs": [
    {
     "data": {
      "text/plain": [
       "array([ 7, 16, 27,  4, 30])"
      ]
     },
     "execution_count": 57,
     "metadata": {},
     "output_type": "execute_result"
    }
   ],
   "source": [
    "np.multiply(a,b)"
   ]
  },
  {
   "cell_type": "code",
   "execution_count": 58,
   "id": "b8fbbc7c-21a8-4d65-acfe-56b69b6a8956",
   "metadata": {},
   "outputs": [
    {
     "data": {
      "text/plain": [
       "array([7.  , 4.  , 3.  , 0.25, 1.2 ])"
      ]
     },
     "execution_count": 58,
     "metadata": {},
     "output_type": "execute_result"
    }
   ],
   "source": [
    "np.divide(b,a)"
   ]
  },
  {
   "cell_type": "code",
   "execution_count": 62,
   "id": "57c4a56f-d207-4f7b-8196-218aeea10169",
   "metadata": {},
   "outputs": [
    {
     "data": {
      "text/plain": [
       "array([0, 0, 0, 1, 1])"
      ]
     },
     "execution_count": 62,
     "metadata": {},
     "output_type": "execute_result"
    }
   ],
   "source": [
    "np.mod(b,a) #modulus or remainder"
   ]
  },
  {
   "cell_type": "code",
   "execution_count": 63,
   "id": "ee057127-067c-4714-8019-58ab60af496d",
   "metadata": {},
   "outputs": [
    {
     "data": {
      "text/plain": [
       "array([7, 4, 3, 0, 1])"
      ]
     },
     "execution_count": 63,
     "metadata": {},
     "output_type": "execute_result"
    }
   ],
   "source": [
    "np.floor_divide(b,a)"
   ]
  },
  {
   "cell_type": "code",
   "execution_count": 64,
   "id": "da602cef-3d40-4a31-85c9-fe9e08a66389",
   "metadata": {},
   "outputs": [
    {
     "data": {
      "text/plain": [
       "(array([7, 4, 3, 0, 1]), array([0, 0, 0, 1, 1]))"
      ]
     },
     "execution_count": 64,
     "metadata": {},
     "output_type": "execute_result"
    }
   ],
   "source": [
    "np.divmod(b,a) #it returns both floor division and remainder "
   ]
  },
  {
   "cell_type": "code",
   "execution_count": 65,
   "id": "0207fd43-ba1e-49ca-bd04-0c0a3a924c2f",
   "metadata": {},
   "outputs": [
    {
     "data": {
      "text/plain": [
       "array([1, 0, 0, 0, 0])"
      ]
     },
     "execution_count": 65,
     "metadata": {},
     "output_type": "execute_result"
    }
   ],
   "source": [
    "np.reciprocal(a)"
   ]
  },
  {
   "cell_type": "code",
   "execution_count": 66,
   "id": "fd4a78e1-e652-4e7d-bb3c-c4783d607218",
   "metadata": {},
   "outputs": [
    {
     "data": {
      "text/plain": [
       "array([ 0.84147098,  0.90929743,  0.14112001, -0.7568025 , -0.95892427])"
      ]
     },
     "execution_count": 66,
     "metadata": {},
     "output_type": "execute_result"
    }
   ],
   "source": [
    "np.sin(a)"
   ]
  },
  {
   "cell_type": "code",
   "execution_count": 67,
   "id": "2404e49b-7137-446b-8576-aa3cb75398b9",
   "metadata": {},
   "outputs": [
    {
     "data": {
      "text/plain": [
       "array([ 0.54030231, -0.41614684, -0.9899925 , -0.65364362,  0.28366219])"
      ]
     },
     "execution_count": 67,
     "metadata": {},
     "output_type": "execute_result"
    }
   ],
   "source": [
    "np.cos(a)"
   ]
  },
  {
   "cell_type": "code",
   "execution_count": 68,
   "id": "fe4f6e1d-4252-4094-abf6-f55e50d157f7",
   "metadata": {},
   "outputs": [
    {
     "data": {
      "text/plain": [
       "array([ 1.55740772, -2.18503986, -0.14254654,  1.15782128, -3.38051501])"
      ]
     },
     "execution_count": 68,
     "metadata": {},
     "output_type": "execute_result"
    }
   ],
   "source": [
    "np.tan(a)"
   ]
  },
  {
   "cell_type": "code",
   "execution_count": 2,
   "id": "42f012a9-73a5-4a17-9cd2-af2632b9c264",
   "metadata": {},
   "outputs": [],
   "source": [
    "#np.log(a)"
   ]
  },
  {
   "cell_type": "code",
   "execution_count": 70,
   "id": "6a52c066-3422-40ea-993d-675bd2edde4b",
   "metadata": {},
   "outputs": [
    {
     "data": {
      "text/plain": [
       "5"
      ]
     },
     "execution_count": 70,
     "metadata": {},
     "output_type": "execute_result"
    }
   ],
   "source": [
    "#statistical fuctional\n",
    "np.max(a)"
   ]
  },
  {
   "cell_type": "code",
   "execution_count": 69,
   "id": "9a036162-dfc3-4118-b452-3d1938c2bfac",
   "metadata": {},
   "outputs": [
    {
     "data": {
      "text/plain": [
       "array([1.        , 1.41421356, 1.73205081, 2.        , 2.23606798])"
      ]
     },
     "execution_count": 69,
     "metadata": {},
     "output_type": "execute_result"
    }
   ],
   "source": [
    "np.sqrt(a)"
   ]
  },
  {
   "cell_type": "code",
   "execution_count": 71,
   "id": "be40a41e-5f2d-4dbf-8a65-590c25998714",
   "metadata": {},
   "outputs": [
    {
     "data": {
      "text/plain": [
       "1"
      ]
     },
     "execution_count": 71,
     "metadata": {},
     "output_type": "execute_result"
    }
   ],
   "source": [
    "np.min(a)"
   ]
  },
  {
   "cell_type": "code",
   "execution_count": 72,
   "id": "bafbd42d-626e-46a7-95b8-c15a7dd6bcac",
   "metadata": {},
   "outputs": [
    {
     "data": {
      "text/plain": [
       "3.0"
      ]
     },
     "execution_count": 72,
     "metadata": {},
     "output_type": "execute_result"
    }
   ],
   "source": [
    "np.mean(a)"
   ]
  },
  {
   "cell_type": "code",
   "execution_count": 73,
   "id": "edee5702-b672-48bc-8d80-9b2ffb2a4ce9",
   "metadata": {},
   "outputs": [
    {
     "data": {
      "text/plain": [
       "3.0"
      ]
     },
     "execution_count": 73,
     "metadata": {},
     "output_type": "execute_result"
    }
   ],
   "source": [
    "np.median(a)"
   ]
  },
  {
   "cell_type": "code",
   "execution_count": 74,
   "id": "c4df6f0d-b571-4faf-8ae8-236d1e1d3e4c",
   "metadata": {},
   "outputs": [
    {
     "data": {
      "text/plain": [
       "1.4142135623730951"
      ]
     },
     "execution_count": 74,
     "metadata": {},
     "output_type": "execute_result"
    }
   ],
   "source": [
    "#Standard deviation\n",
    "np.std(a)"
   ]
  },
  {
   "cell_type": "code",
   "execution_count": 75,
   "id": "c3520666-fd6d-4bc9-a87e-9bb90e5fdd57",
   "metadata": {},
   "outputs": [
    {
     "data": {
      "text/plain": [
       "2.0"
      ]
     },
     "execution_count": 75,
     "metadata": {},
     "output_type": "execute_result"
    }
   ],
   "source": [
    "#Variance\n",
    "np.var(a)"
   ]
  },
  {
   "cell_type": "code",
   "execution_count": 77,
   "id": "29e18576-084f-4d1d-b745-0cfadec346d6",
   "metadata": {},
   "outputs": [
    {
     "data": {
      "text/plain": [
       "array([1, 2, 3, 4, 5])"
      ]
     },
     "execution_count": 77,
     "metadata": {},
     "output_type": "execute_result"
    }
   ],
   "source": [
    "a"
   ]
  },
  {
   "cell_type": "code",
   "execution_count": 78,
   "id": "be41bf4a-cfab-4ecf-b0dd-025fc789e350",
   "metadata": {},
   "outputs": [
    {
     "data": {
      "text/plain": [
       "array([ 1,  3,  6, 10, 15])"
      ]
     },
     "execution_count": 78,
     "metadata": {},
     "output_type": "execute_result"
    }
   ],
   "source": [
    "#cumulative summation --> cumsum\n",
    "np.cumsum(a)"
   ]
  },
  {
   "cell_type": "code",
   "execution_count": 79,
   "id": "b41c8f5c-1922-4c4c-8025-cd1ce65e2c50",
   "metadata": {},
   "outputs": [
    {
     "data": {
      "text/plain": [
       "array([1, 1, 1, 1, 2, 2, 2, 2, 3, 3, 3, 3, 4, 4, 4, 4, 5, 5, 5, 5])"
      ]
     },
     "execution_count": 79,
     "metadata": {},
     "output_type": "execute_result"
    }
   ],
   "source": [
    "#repeat\n",
    "a = np.array([1,2,3,4,5])\n",
    "np.repeat(a,4)"
   ]
  },
  {
   "cell_type": "code",
   "execution_count": 82,
   "id": "a54e6ac0-ba5a-49b9-a228-04f1669a4c4e",
   "metadata": {},
   "outputs": [
    {
     "data": {
      "text/plain": [
       "array([1, 2, 3, 4, 1, 2, 3, 4, 1, 2, 3, 4, 1, 2, 3, 4])"
      ]
     },
     "execution_count": 82,
     "metadata": {},
     "output_type": "execute_result"
    }
   ],
   "source": [
    "#tile\n",
    "a = np.array([1,2,3,4])\n",
    "np.tile(a,4)"
   ]
  },
  {
   "cell_type": "code",
   "execution_count": 83,
   "id": "7efbfede-898e-42cb-8dea-7fcc6e0cb41a",
   "metadata": {},
   "outputs": [
    {
     "data": {
      "text/plain": [
       "(array([ 2,  3,  5,  7, 11], dtype=int64),)"
      ]
     },
     "execution_count": 83,
     "metadata": {},
     "output_type": "execute_result"
    }
   ],
   "source": [
    "#where\n",
    "a = np.array([1,2,4,4,3,4,2,4,5,6,3,4])\n",
    "np.where(a==4)"
   ]
  },
  {
   "cell_type": "code",
   "execution_count": 84,
   "id": "7db329c1-69a4-4c8a-bf55-750d5b650f26",
   "metadata": {},
   "outputs": [
    {
     "data": {
      "text/plain": [
       "9"
      ]
     },
     "execution_count": 84,
     "metadata": {},
     "output_type": "execute_result"
    }
   ],
   "source": [
    "#argmax --> max value index\n",
    "np.argmax(a)"
   ]
  },
  {
   "cell_type": "code",
   "execution_count": 85,
   "id": "4bbd3abc-051c-4b87-b35f-9c47d6a66c4e",
   "metadata": {},
   "outputs": [
    {
     "data": {
      "text/plain": [
       "0"
      ]
     },
     "execution_count": 85,
     "metadata": {},
     "output_type": "execute_result"
    }
   ],
   "source": [
    "#argmin\n",
    "np.argmin(a)"
   ]
  },
  {
   "cell_type": "code",
   "execution_count": null,
   "id": "34dd9af3-69d5-413a-a4b1-23100cde5fec",
   "metadata": {},
   "outputs": [],
   "source": []
  }
 ],
 "metadata": {
  "kernelspec": {
   "display_name": "Python 3 (ipykernel)",
   "language": "python",
   "name": "python3"
  },
  "language_info": {
   "codemirror_mode": {
    "name": "ipython",
    "version": 3
   },
   "file_extension": ".py",
   "mimetype": "text/x-python",
   "name": "python",
   "nbconvert_exporter": "python",
   "pygments_lexer": "ipython3",
   "version": "3.10.7"
  }
 },
 "nbformat": 4,
 "nbformat_minor": 5
}
