{
 "cells": [
  {
   "cell_type": "code",
   "execution_count": 16,
   "id": "01ad4879-ef93-448e-87eb-cac2865c48ca",
   "metadata": {},
   "outputs": [],
   "source": [
    "\n",
    "a = 10\n",
    "b = 3\n"
   ]
  },
  {
   "cell_type": "code",
   "execution_count": 8,
   "id": "a0922279-8aee-4566-93b4-7f4cc94628da",
   "metadata": {},
   "outputs": [
    {
     "data": {
      "text/plain": [
       "13"
      ]
     },
     "execution_count": 8,
     "metadata": {},
     "output_type": "execute_result"
    }
   ],
   "source": [
    "#addition\n",
    "a+b\n"
   ]
  },
  {
   "cell_type": "code",
   "execution_count": 9,
   "id": "c05205f3-5baa-4d06-a38e-10840c5ac519",
   "metadata": {},
   "outputs": [
    {
     "data": {
      "text/plain": [
       "7"
      ]
     },
     "execution_count": 9,
     "metadata": {},
     "output_type": "execute_result"
    }
   ],
   "source": [
    "#substraction\n",
    "a-b"
   ]
  },
  {
   "cell_type": "code",
   "execution_count": 10,
   "id": "dd7382a6-9a48-4631-bf3b-29a587305814",
   "metadata": {},
   "outputs": [
    {
     "data": {
      "text/plain": [
       "3"
      ]
     },
     "execution_count": 10,
     "metadata": {},
     "output_type": "execute_result"
    }
   ],
   "source": [
    "#floor division\n",
    "a//b\n"
   ]
  },
  {
   "cell_type": "code",
   "execution_count": 12,
   "id": "26592218-ad22-49b6-a82d-49cec381c115",
   "metadata": {},
   "outputs": [
    {
     "data": {
      "text/plain": [
       "1000"
      ]
     },
     "execution_count": 12,
     "metadata": {},
     "output_type": "execute_result"
    }
   ],
   "source": [
    "#power\n",
    "a**b"
   ]
  },
  {
   "cell_type": "code",
   "execution_count": 17,
   "id": "7eaf057f-b541-4ee2-83b7-89167e75797c",
   "metadata": {},
   "outputs": [
    {
     "data": {
      "text/plain": [
       "11"
      ]
     },
     "execution_count": 17,
     "metadata": {},
     "output_type": "execute_result"
    }
   ],
   "source": [
    "#assignment operators eg -- a = 10\n",
    "a += 1\n",
    "a"
   ]
  },
  {
   "cell_type": "code",
   "execution_count": 21,
   "id": "8fdbd326-909e-4b42-81b8-734ea11c7ff4",
   "metadata": {},
   "outputs": [
    {
     "data": {
      "text/plain": [
       "True"
      ]
     },
     "execution_count": 21,
     "metadata": {},
     "output_type": "execute_result"
    }
   ],
   "source": [
    "#comparision / relational operator \n",
    "20 == 20\n"
   ]
  },
  {
   "cell_type": "code",
   "execution_count": 20,
   "id": "bba3e957-699c-45e5-95fb-e8cef4ae6be1",
   "metadata": {},
   "outputs": [
    {
     "data": {
      "text/plain": [
       "False"
      ]
     },
     "execution_count": 20,
     "metadata": {},
     "output_type": "execute_result"
    }
   ],
   "source": [
    "20 <= 10"
   ]
  },
  {
   "cell_type": "code",
   "execution_count": 22,
   "id": "c5b00c8e-4bcf-4c3c-8859-e03cf6022cc0",
   "metadata": {},
   "outputs": [
    {
     "data": {
      "text/plain": [
       "True"
      ]
     },
     "execution_count": 22,
     "metadata": {},
     "output_type": "execute_result"
    }
   ],
   "source": [
    "#logical operators --> AND OR NOT\n",
    "10 > 5 and 5 < 7"
   ]
  },
  {
   "cell_type": "code",
   "execution_count": 23,
   "id": "fdc516b7-2bad-4676-b01f-c0454dfaec12",
   "metadata": {},
   "outputs": [
    {
     "data": {
      "text/plain": [
       "False"
      ]
     },
     "execution_count": 23,
     "metadata": {},
     "output_type": "execute_result"
    }
   ],
   "source": [
    "10 > 5 and 5 < 1"
   ]
  },
  {
   "cell_type": "code",
   "execution_count": 24,
   "id": "832a9972-1517-4e1f-a42b-8916739ce54d",
   "metadata": {},
   "outputs": [
    {
     "data": {
      "text/plain": [
       "True"
      ]
     },
     "execution_count": 24,
     "metadata": {},
     "output_type": "execute_result"
    }
   ],
   "source": [
    "10 > 5 or 5 < 1"
   ]
  },
  {
   "cell_type": "code",
   "execution_count": 26,
   "id": "770ae347-de29-4d33-b14d-08ffbc444105",
   "metadata": {},
   "outputs": [
    {
     "data": {
      "text/plain": [
       "False"
      ]
     },
     "execution_count": 26,
     "metadata": {},
     "output_type": "execute_result"
    }
   ],
   "source": [
    "10 < 5 or 5 < 1"
   ]
  },
  {
   "cell_type": "code",
   "execution_count": 27,
   "id": "6a20e0b1-410b-4a3f-bc61-434881bde3ed",
   "metadata": {},
   "outputs": [
    {
     "data": {
      "text/plain": [
       "False"
      ]
     },
     "execution_count": 27,
     "metadata": {},
     "output_type": "execute_result"
    }
   ],
   "source": [
    "not 10>5"
   ]
  },
  {
   "cell_type": "code",
   "execution_count": 28,
   "id": "8a4d2562-1737-4872-ae6b-10a6939d2e37",
   "metadata": {},
   "outputs": [
    {
     "data": {
      "text/plain": [
       "True"
      ]
     },
     "execution_count": 28,
     "metadata": {},
     "output_type": "execute_result"
    }
   ],
   "source": [
    "not 10<5"
   ]
  },
  {
   "cell_type": "code",
   "execution_count": 29,
   "id": "94d3d79d-87e4-48a9-8eb1-92722e13f151",
   "metadata": {},
   "outputs": [],
   "source": [
    "#Special operator\n",
    "#identity opearator --> 'is' and 'is not'\n",
    "\n",
    "a = 4\n",
    "b = 4"
   ]
  },
  {
   "cell_type": "code",
   "execution_count": 30,
   "id": "cdcfeba9-9a6a-4868-b144-8566ccae0e3f",
   "metadata": {},
   "outputs": [
    {
     "data": {
      "text/plain": [
       "True"
      ]
     },
     "execution_count": 30,
     "metadata": {},
     "output_type": "execute_result"
    }
   ],
   "source": [
    "a is b"
   ]
  },
  {
   "cell_type": "code",
   "execution_count": 31,
   "id": "538b94f1-d708-4d86-a2dc-7f1f608f4ace",
   "metadata": {},
   "outputs": [
    {
     "data": {
      "text/plain": [
       "False"
      ]
     },
     "execution_count": 31,
     "metadata": {},
     "output_type": "execute_result"
    }
   ],
   "source": [
    "a is not b"
   ]
  },
  {
   "cell_type": "code",
   "execution_count": 32,
   "id": "f68bc022-9f33-46a7-b63d-e4f420ffcc1a",
   "metadata": {},
   "outputs": [
    {
     "data": {
      "text/plain": [
       "False"
      ]
     },
     "execution_count": 32,
     "metadata": {},
     "output_type": "execute_result"
    }
   ],
   "source": [
    "[1,2,3,4] is [1,2,3,4]"
   ]
  },
  {
   "cell_type": "code",
   "execution_count": 33,
   "id": "051f4cea-bb65-442e-8891-fddd5d19823a",
   "metadata": {},
   "outputs": [
    {
     "data": {
      "text/plain": [
       "True"
      ]
     },
     "execution_count": 33,
     "metadata": {},
     "output_type": "execute_result"
    }
   ],
   "source": [
    "#membership operator\n",
    "'a' not in 'Apple'"
   ]
  },
  {
   "cell_type": "code",
   "execution_count": 34,
   "id": "0d67fd18-aec8-40c5-813a-285f8044379f",
   "metadata": {},
   "outputs": [
    {
     "data": {
      "text/plain": [
       "True"
      ]
     },
     "execution_count": 34,
     "metadata": {},
     "output_type": "execute_result"
    }
   ],
   "source": [
    "'A' in 'Apple'"
   ]
  }
 ],
 "metadata": {
  "kernelspec": {
   "display_name": "Python 3 (ipykernel)",
   "language": "python",
   "name": "python3"
  },
  "language_info": {
   "codemirror_mode": {
    "name": "ipython",
    "version": 3
   },
   "file_extension": ".py",
   "mimetype": "text/x-python",
   "name": "python",
   "nbconvert_exporter": "python",
   "pygments_lexer": "ipython3",
   "version": "3.10.7"
  }
 },
 "nbformat": 4,
 "nbformat_minor": 5
}
