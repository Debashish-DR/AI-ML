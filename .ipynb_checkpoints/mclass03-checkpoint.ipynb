{
 "cells": [
  {
   "cell_type": "code",
   "execution_count": null,
   "id": "43c77046-c9c5-46ec-b521-723ad4f20875",
   "metadata": {},
   "outputs": [],
   "source": [
    "c = ''\n",
    "while c.lower() not in ['rock','paper','scissors']:\n",
    "    c = input('Enter your choice among (rock/paper/scissor)')\n",
    "print ('You choose : ',c)"
   ]
  },
  {
   "cell_type": "code",
   "execution_count": 3,
   "id": "7d9fb509-2cb7-4177-92c8-437c9d45b071",
   "metadata": {},
   "outputs": [
    {
     "name": "stdout",
     "output_type": "stream",
     "text": [
      "884987\n"
     ]
    }
   ],
   "source": [
    "#reverse digit\n",
    "n = 789488\n",
    "rev = 0\n",
    "while n!=0:\n",
    "    last  = n%10\n",
    "    rev = rev*10+last\n",
    "    n = n//10\n",
    "print(rev)"
   ]
  },
  {
   "cell_type": "code",
   "execution_count": 4,
   "id": "4964ed2e-0a7f-4f99-92d1-fa19cf0b3f67",
   "metadata": {},
   "outputs": [
    {
     "name": "stdout",
     "output_type": "stream",
     "text": [
      "h\n"
     ]
    }
   ],
   "source": [
    "#break\n",
    "for i in 'python':\n",
    "    if i == 'h':\n",
    "     break\n",
    "print (i)"
   ]
  },
  {
   "cell_type": "code",
   "execution_count": 6,
   "id": "a34d74a2-9c4a-4038-9ece-6f8f02850486",
   "metadata": {},
   "outputs": [
    {
     "name": "stdout",
     "output_type": "stream",
     "text": [
      "p\n",
      "y\n",
      "t\n",
      "o\n",
      "n\n",
      "n\n"
     ]
    }
   ],
   "source": [
    "#continue\n",
    "for i in \"python\":\n",
    "    if i == 'h':\n",
    "        continue\n",
    "    print(i)"
   ]
  },
  {
   "cell_type": "code",
   "execution_count": null,
   "id": "2e8a2133-0435-4ec0-964e-378074ec22dc",
   "metadata": {},
   "outputs": [],
   "source": []
  }
 ],
 "metadata": {
  "kernelspec": {
   "display_name": "Python 3 (ipykernel)",
   "language": "python",
   "name": "python3"
  },
  "language_info": {
   "codemirror_mode": {
    "name": "ipython",
    "version": 3
   },
   "file_extension": ".py",
   "mimetype": "text/x-python",
   "name": "python",
   "nbconvert_exporter": "python",
   "pygments_lexer": "ipython3",
   "version": "3.10.7"
  }
 },
 "nbformat": 4,
 "nbformat_minor": 5
}
