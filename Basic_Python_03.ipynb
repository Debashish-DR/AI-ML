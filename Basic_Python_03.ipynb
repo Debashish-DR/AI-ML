{
 "cells": [
  {
   "cell_type": "code",
   "execution_count": null,
   "id": "43c77046-c9c5-46ec-b521-723ad4f20875",
   "metadata": {},
   "outputs": [],
   "source": [
    "c = ''\n",
    "while c.lower() not in ['rock','paper','scissors']:\n",
    "    c = input('Enter your choice among (rock/paper/scissor)')\n",
    "print ('You choose : ',c)"
   ]
  },
  {
   "cell_type": "code",
   "execution_count": 3,
   "id": "7d9fb509-2cb7-4177-92c8-437c9d45b071",
   "metadata": {},
   "outputs": [
    {
     "name": "stdout",
     "output_type": "stream",
     "text": [
      "884987\n"
     ]
    }
   ],
   "source": [
    "#reverse digit\n",
    "n = 789488\n",
    "rev = 0\n",
    "while n!=0:\n",
    "    last  = n%10\n",
    "    rev = rev*10+last\n",
    "    n = n//10\n",
    "print(rev)"
   ]
  },
  {
   "cell_type": "code",
   "execution_count": 4,
   "id": "4964ed2e-0a7f-4f99-92d1-fa19cf0b3f67",
   "metadata": {},
   "outputs": [
    {
     "name": "stdout",
     "output_type": "stream",
     "text": [
      "h\n"
     ]
    }
   ],
   "source": [
    "#break\n",
    "for i in 'python':\n",
    "    if i == 'h':\n",
    "     break\n",
    "print (i)"
   ]
  },
  {
   "cell_type": "code",
   "execution_count": 6,
   "id": "a34d74a2-9c4a-4038-9ece-6f8f02850486",
   "metadata": {},
   "outputs": [
    {
     "name": "stdout",
     "output_type": "stream",
     "text": [
      "p\n",
      "y\n",
      "t\n",
      "o\n",
      "n\n",
      "n\n"
     ]
    }
   ],
   "source": [
    "#continue\n",
    "for i in \"python\":\n",
    "    if i == 'h':\n",
    "        continue\n",
    "    print(i)"
   ]
  },
  {
   "cell_type": "code",
   "execution_count": 9,
   "id": "2e8a2133-0435-4ec0-964e-378074ec22dc",
   "metadata": {},
   "outputs": [
    {
     "name": "stdout",
     "output_type": "stream",
     "text": [
      "p\n",
      "y\n",
      "t\n",
      "h\n",
      "o\n",
      "n\n"
     ]
    }
   ],
   "source": [
    "#pass --> it will pass the statement \n",
    "if 10>5:\n",
    "    pass #otherwise it will show error\n",
    "for i in \"python\":\n",
    "    if i == \"h\":\n",
    "        pass\n",
    "    print(i)"
   ]
  },
  {
   "cell_type": "code",
   "execution_count": 10,
   "id": "bba2171f-4ba2-44e4-94d1-680b96abffb3",
   "metadata": {},
   "outputs": [
    {
     "name": "stdout",
     "output_type": "stream",
     "text": [
      "hello\n"
     ]
    }
   ],
   "source": [
    "#Function --> it is a reusable peace of code \n",
    "#functions are two types : (1) pre-defined (2) User-defined\n",
    "\n",
    "#Built-in functions\n",
    "#print\n",
    "print(\"hello\")"
   ]
  },
  {
   "cell_type": "code",
   "execution_count": 20,
   "id": "47919d64-8603-4750-9317-741f81c2d572",
   "metadata": {},
   "outputs": [
    {
     "name": "stdout",
     "output_type": "stream",
     "text": [
      "MAX 150\n",
      "MIN 10\n",
      "SUM 30\n",
      "Evaluation through eval =  60\n",
      "Type :  <class 'int'>\n"
     ]
    }
   ],
   "source": [
    "#max , min , sum , length , eval , type\n",
    "print(\"MAX\",max(10,20,30,50,100,90,150))\n",
    "print(\"MIN\",min(10,20,30,50,100,90,150))\n",
    "print(\"SUM\",sum([10,20]))\n",
    "#eval\n",
    "#a,b,c = eval(input('enter numbers : '))\n",
    "print(\"Evaluation through eval = \",eval(\"10+20+30\"))\n",
    "a = 10\n",
    "print(\"Type : \",type(a))"
   ]
  },
  {
   "cell_type": "code",
   "execution_count": 21,
   "id": "a37f7b89-96fa-4168-bcb9-8f99ce313a3b",
   "metadata": {},
   "outputs": [],
   "source": [
    "#USER-DEFINED FUNCTIONS\n",
    "#Three main components of user-defined functions --> (1) function declaration (2) function definition (3) function call\n",
    "\n",
    "def greet():    #function declaration\n",
    "    print(\"Good Morning\")   #function definition"
   ]
  },
  {
   "cell_type": "code",
   "execution_count": 22,
   "id": "84789fff-741e-4683-9c76-b63f302b9ea8",
   "metadata": {},
   "outputs": [
    {
     "name": "stdout",
     "output_type": "stream",
     "text": [
      "Good Morning\n"
     ]
    }
   ],
   "source": [
    "greet()    #function call"
   ]
  },
  {
   "cell_type": "code",
   "execution_count": 25,
   "id": "317d566d-a3bc-4dc3-a6c2-5abe5fc25f93",
   "metadata": {},
   "outputs": [],
   "source": [
    "#single argument\n",
    "def greet(name):\n",
    "    print(\"Good Morning \" + name)\n",
    "    "
   ]
  },
  {
   "cell_type": "code",
   "execution_count": 26,
   "id": "08d30954-2350-430b-98e3-a870f7bc2233",
   "metadata": {},
   "outputs": [
    {
     "name": "stdout",
     "output_type": "stream",
     "text": [
      "Good Morning Madam\n"
     ]
    }
   ],
   "source": [
    "greet(\"Madam\")"
   ]
  },
  {
   "cell_type": "code",
   "execution_count": 31,
   "id": "2117080a-840b-4403-b722-eda0e3124acf",
   "metadata": {},
   "outputs": [],
   "source": [
    "#return : this keyword returns the result\n",
    "def greet(name):\n",
    "    return \"hello \" + name"
   ]
  },
  {
   "cell_type": "code",
   "execution_count": 32,
   "id": "b5657d2b-2519-4856-a724-afbfc810aac2",
   "metadata": {},
   "outputs": [
    {
     "data": {
      "text/plain": [
       "'hello Sourav'"
      ]
     },
     "execution_count": 32,
     "metadata": {},
     "output_type": "execute_result"
    }
   ],
   "source": [
    "greet(\"Sourav\")"
   ]
  },
  {
   "cell_type": "code",
   "execution_count": 33,
   "id": "c42e87f0-cdf6-4825-ab14-c8bb6c49ff4a",
   "metadata": {},
   "outputs": [],
   "source": [
    "#Two argument\n",
    "def add(num1 , num2):\n",
    "    return num1+num2"
   ]
  },
  {
   "cell_type": "code",
   "execution_count": 34,
   "id": "28f02084-4167-49db-b28b-2846c9f28a8a",
   "metadata": {},
   "outputs": [
    {
     "data": {
      "text/plain": [
       "11"
      ]
     },
     "execution_count": 34,
     "metadata": {},
     "output_type": "execute_result"
    }
   ],
   "source": [
    "add(1 , 10)"
   ]
  },
  {
   "cell_type": "code",
   "execution_count": 35,
   "id": "fc18130b-6e98-4d16-84b9-fa118a609591",
   "metadata": {},
   "outputs": [],
   "source": [
    "def StringAdd(name1 , name2):\n",
    "    return name1+name2\n",
    "    "
   ]
  },
  {
   "cell_type": "code",
   "execution_count": 36,
   "id": "2792ff4e-d718-423e-9d99-3b53bea66cb1",
   "metadata": {},
   "outputs": [
    {
     "data": {
      "text/plain": [
       "'Debashish'"
      ]
     },
     "execution_count": 36,
     "metadata": {},
     "output_type": "execute_result"
    }
   ],
   "source": [
    "StringAdd(\"Deb\",\"ashish\")"
   ]
  },
  {
   "cell_type": "code",
   "execution_count": 37,
   "id": "5c6f0a88-709b-435d-b106-c49db97223f9",
   "metadata": {},
   "outputs": [],
   "source": [
    "#Default argument\n",
    "def add(n = 5 , m = 3):\n",
    "    return m+n"
   ]
  },
  {
   "cell_type": "code",
   "execution_count": 40,
   "id": "30a54591-ce79-48f7-8ad3-f4b5a0046622",
   "metadata": {},
   "outputs": [
    {
     "data": {
      "text/plain": [
       "8"
      ]
     },
     "execution_count": 40,
     "metadata": {},
     "output_type": "execute_result"
    }
   ],
   "source": [
    "add() #it will use the default value"
   ]
  },
  {
   "cell_type": "code",
   "execution_count": 41,
   "id": "53fb10ee-d5ac-44f4-a2f3-fe47d9e61418",
   "metadata": {},
   "outputs": [
    {
     "data": {
      "text/plain": [
       "30"
      ]
     },
     "execution_count": 41,
     "metadata": {},
     "output_type": "execute_result"
    }
   ],
   "source": [
    "add(10,20) #It will replace default value"
   ]
  },
  {
   "cell_type": "code",
   "execution_count": 43,
   "id": "207319be-f651-40fa-9b53-8f7099fd89cd",
   "metadata": {},
   "outputs": [
    {
     "data": {
      "text/plain": [
       "13"
      ]
     },
     "execution_count": 43,
     "metadata": {},
     "output_type": "execute_result"
    }
   ],
   "source": [
    "add(10)  #it will replace only n value"
   ]
  },
  {
   "cell_type": "code",
   "execution_count": 46,
   "id": "7a12f426-abfa-4888-b520-86ca2b54539f",
   "metadata": {},
   "outputs": [],
   "source": [
    "#multiple args\n",
    "def add(*args):\n",
    "    return sum(args)"
   ]
  },
  {
   "cell_type": "code",
   "execution_count": 47,
   "id": "e50a0684-ef69-4fc9-ba1c-4533bed528d5",
   "metadata": {},
   "outputs": [
    {
     "data": {
      "text/plain": [
       "100"
      ]
     },
     "execution_count": 47,
     "metadata": {},
     "output_type": "execute_result"
    }
   ],
   "source": [
    "add(10,20,30,40)"
   ]
  },
  {
   "cell_type": "code",
   "execution_count": 52,
   "id": "5f95072f-111b-4206-b613-76e9d7e5008a",
   "metadata": {},
   "outputs": [],
   "source": [
    "#sum upto given number\n",
    "\n",
    "def add(n):\n",
    "    sum = 0\n",
    "    for i in range(1,n+1):\n",
    "        sum = sum+i\n",
    "    return sum"
   ]
  },
  {
   "cell_type": "code",
   "execution_count": 53,
   "id": "05bd32aa-35e4-4623-aacc-5bfd6e172d45",
   "metadata": {},
   "outputs": [
    {
     "data": {
      "text/plain": [
       "55"
      ]
     },
     "execution_count": 53,
     "metadata": {},
     "output_type": "execute_result"
    }
   ],
   "source": [
    "add(10)"
   ]
  },
  {
   "cell_type": "code",
   "execution_count": 54,
   "id": "14246631-f8ec-4473-a167-01c37526024e",
   "metadata": {},
   "outputs": [],
   "source": [
    "\n",
    "def add(n):\n",
    "    return sum(range(1,n+1))"
   ]
  },
  {
   "cell_type": "code",
   "execution_count": 56,
   "id": "187711c8-2978-4606-9b70-9853b27b3a18",
   "metadata": {},
   "outputs": [
    {
     "data": {
      "text/plain": [
       "55"
      ]
     },
     "execution_count": 56,
     "metadata": {},
     "output_type": "execute_result"
    }
   ],
   "source": [
    "add(10)"
   ]
  },
  {
   "cell_type": "code",
   "execution_count": 57,
   "id": "af0b6d95-e589-409b-af7f-2bc87d26bc6a",
   "metadata": {},
   "outputs": [],
   "source": [
    "#Check Even or odd\n",
    "def isEven(n):\n",
    "    if n%2 == 0:\n",
    "        return \"Even\"\n",
    "    else:\n",
    "        return \"Odd\""
   ]
  },
  {
   "cell_type": "code",
   "execution_count": 62,
   "id": "dc8b2cd4-2972-4e48-b524-397430fa009e",
   "metadata": {},
   "outputs": [
    {
     "data": {
      "text/plain": [
       "'Odd'"
      ]
     },
     "execution_count": 62,
     "metadata": {},
     "output_type": "execute_result"
    }
   ],
   "source": [
    "isEven(9)"
   ]
  },
  {
   "cell_type": "code",
   "execution_count": 64,
   "id": "f72c7de0-8249-4d92-a379-c66ed398d7cf",
   "metadata": {},
   "outputs": [],
   "source": [
    "#OOPS\n",
    "\n",
    "a = \"Mango\""
   ]
  },
  {
   "cell_type": "code",
   "execution_count": 65,
   "id": "8d923310-dc22-4b33-9122-bdeaa6808ed3",
   "metadata": {},
   "outputs": [
    {
     "data": {
      "text/plain": [
       "'Mango'"
      ]
     },
     "execution_count": 65,
     "metadata": {},
     "output_type": "execute_result"
    }
   ],
   "source": [
    "a"
   ]
  },
  {
   "cell_type": "code",
   "execution_count": 66,
   "id": "ca3fb8eb-1eac-4a6b-8574-e56b48ea3fc8",
   "metadata": {},
   "outputs": [],
   "source": [
    "class Fruit:\n",
    "    var = \"Apple\"  #class attributes"
   ]
  },
  {
   "cell_type": "code",
   "execution_count": 67,
   "id": "772ef01b-d8e7-4c85-9467-e0484893f866",
   "metadata": {},
   "outputs": [
    {
     "data": {
      "text/plain": [
       "'Apple'"
      ]
     },
     "execution_count": 67,
     "metadata": {},
     "output_type": "execute_result"
    }
   ],
   "source": [
    "obj = Fruit()\n",
    "obj.var"
   ]
  },
  {
   "cell_type": "code",
   "execution_count": 68,
   "id": "a69b1254-f749-48cd-aeef-cd7e2f6950f4",
   "metadata": {},
   "outputs": [
    {
     "name": "stdout",
     "output_type": "stream",
     "text": [
      "<__main__.Fruit object at 0x0000019B22FE2B30>\n"
     ]
    }
   ],
   "source": [
    "print(obj) #it shows the reference of the object"
   ]
  },
  {
   "cell_type": "code",
   "execution_count": 69,
   "id": "5c520aa6-469e-48b0-9f93-d21ecc953e94",
   "metadata": {},
   "outputs": [],
   "source": [
    "class Mobile:\n",
    "    color = \"Blue\"\n",
    "    storage = \"128GB\"\n",
    "    camera = \"50mp\"\n",
    "    "
   ]
  },
  {
   "cell_type": "code",
   "execution_count": 75,
   "id": "176c2b93-6b1c-422c-b6ba-301adb943658",
   "metadata": {},
   "outputs": [
    {
     "data": {
      "text/plain": [
       "'Blue'"
      ]
     },
     "execution_count": 75,
     "metadata": {},
     "output_type": "execute_result"
    }
   ],
   "source": [
    "obj = Mobile()\n",
    "obj.color\n"
   ]
  },
  {
   "cell_type": "code",
   "execution_count": 76,
   "id": "2f743118-d639-4f3a-8104-6c2798e14598",
   "metadata": {},
   "outputs": [
    {
     "data": {
      "text/plain": [
       "'128GB'"
      ]
     },
     "execution_count": 76,
     "metadata": {},
     "output_type": "execute_result"
    }
   ],
   "source": [
    "obj.storage"
   ]
  },
  {
   "cell_type": "code",
   "execution_count": 73,
   "id": "eceb13fd-7393-47f4-8c10-2a2bdd774990",
   "metadata": {},
   "outputs": [],
   "source": [
    "realme = Mobile()"
   ]
  },
  {
   "cell_type": "code",
   "execution_count": 77,
   "id": "43e5ff4f-4e73-4a1c-8e00-130a9c66ee79",
   "metadata": {},
   "outputs": [],
   "source": [
    "realme.color = 'black'\n",
    "realme.storage = '512GB'\n",
    "realme.camera = \"108mp\""
   ]
  },
  {
   "cell_type": "code",
   "execution_count": 78,
   "id": "0378bced-d5aa-4a03-a4a6-01e8d923dc3d",
   "metadata": {},
   "outputs": [
    {
     "data": {
      "text/plain": [
       "'black'"
      ]
     },
     "execution_count": 78,
     "metadata": {},
     "output_type": "execute_result"
    }
   ],
   "source": [
    "realme.color"
   ]
  },
  {
   "cell_type": "code",
   "execution_count": 81,
   "id": "5d705238-555f-45fc-800d-a68656a95479",
   "metadata": {},
   "outputs": [],
   "source": [
    "realme.processor = 'SnapDargon' # adding new attributes"
   ]
  },
  {
   "cell_type": "code",
   "execution_count": 82,
   "id": "ceb86a9c-a3b3-44c9-8827-bcb7a285a34f",
   "metadata": {},
   "outputs": [
    {
     "data": {
      "text/plain": [
       "'SnapDargon'"
      ]
     },
     "execution_count": 82,
     "metadata": {},
     "output_type": "execute_result"
    }
   ],
   "source": [
    "realme.processor"
   ]
  },
  {
   "cell_type": "code",
   "execution_count": 98,
   "id": "c0462a00-25fc-4754-8bcd-8fe46845abd7",
   "metadata": {},
   "outputs": [],
   "source": [
    "class dogBreed:\n",
    "    v1 = 'Husky'\n",
    "    v2 = 'German Sepherd'\n",
    "    def favBreed(ob):  # here ob is future referernce object\n",
    "        print(ob.v1,'is my favorite dog breed')\n",
    "        print(ob)"
   ]
  },
  {
   "cell_type": "code",
   "execution_count": 99,
   "id": "df072a2e-477e-4f1b-87a1-0f0137142cca",
   "metadata": {},
   "outputs": [],
   "source": [
    "obj = dogBreed()"
   ]
  },
  {
   "cell_type": "code",
   "execution_count": 100,
   "id": "22d0d16a-36e6-42d8-bede-ead2b26cb1f6",
   "metadata": {},
   "outputs": [
    {
     "name": "stdout",
     "output_type": "stream",
     "text": [
      "Husky is my favorite dog breed\n",
      "<__main__.dogBreed object at 0x0000019B22FE3E50>\n"
     ]
    }
   ],
   "source": [
    "obj.favBreed()"
   ]
  },
  {
   "cell_type": "code",
   "execution_count": 103,
   "id": "717f1ea8-659d-4b46-9807-f6ba86e92f00",
   "metadata": {},
   "outputs": [],
   "source": [
    "class Apple:\n",
    "    color = \"Red\"\n",
    "    taste = \"Sweet\"\n",
    "    weight = 100\n",
    "    def Price(self , qty):\n",
    "        return self.weight*qty"
   ]
  },
  {
   "cell_type": "code",
   "execution_count": 105,
   "id": "92c18656-55a2-462f-ac5d-c48e44ed47b5",
   "metadata": {},
   "outputs": [],
   "source": [
    "obj = Apple()"
   ]
  },
  {
   "cell_type": "code",
   "execution_count": 106,
   "id": "d1b3314a-25ee-4873-baae-edccfec2d47e",
   "metadata": {},
   "outputs": [
    {
     "data": {
      "text/plain": [
       "300"
      ]
     },
     "execution_count": 106,
     "metadata": {},
     "output_type": "execute_result"
    }
   ],
   "source": [
    "obj.Price(3)"
   ]
  },
  {
   "cell_type": "code",
   "execution_count": 113,
   "id": "e4514a68-94b3-4ec6-bef1-d44ae7cf28ac",
   "metadata": {},
   "outputs": [],
   "source": [
    "class Bird:\n",
    "    name = 'parrot'\n",
    "    age = 2\n",
    "    color = 'green'\n",
    "    weight = 200\n",
    "    def Eat(bird , amt):\n",
    "        return bird.weight+amt\n",
    "        "
   ]
  },
  {
   "cell_type": "code",
   "execution_count": 114,
   "id": "bf93c3d8-243b-4ade-80e0-611ba9c9c05d",
   "metadata": {},
   "outputs": [],
   "source": [
    "obj = Bird()"
   ]
  },
  {
   "cell_type": "code",
   "execution_count": 115,
   "id": "bbee3737-7fb1-4205-866f-f61f339cede5",
   "metadata": {},
   "outputs": [
    {
     "data": {
      "text/plain": [
       "300"
      ]
     },
     "execution_count": 115,
     "metadata": {},
     "output_type": "execute_result"
    }
   ],
   "source": [
    "obj.Eat(100)"
   ]
  },
  {
   "cell_type": "code",
   "execution_count": null,
   "id": "a296f792-83f7-4054-831c-f133e26c5a33",
   "metadata": {},
   "outputs": [],
   "source": []
  }
 ],
 "metadata": {
  "kernelspec": {
   "display_name": "Python 3 (ipykernel)",
   "language": "python",
   "name": "python3"
  },
  "language_info": {
   "codemirror_mode": {
    "name": "ipython",
    "version": 3
   },
   "file_extension": ".py",
   "mimetype": "text/x-python",
   "name": "python",
   "nbconvert_exporter": "python",
   "pygments_lexer": "ipython3",
   "version": "3.10.7"
  }
 },
 "nbformat": 4,
 "nbformat_minor": 5
}
